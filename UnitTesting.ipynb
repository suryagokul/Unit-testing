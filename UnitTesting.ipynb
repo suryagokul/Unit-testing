{
  "nbformat": 4,
  "nbformat_minor": 0,
  "metadata": {
    "kernelspec": {
      "display_name": "Python 3",
      "language": "python",
      "name": "python3"
    },
    "language_info": {
      "codemirror_mode": {
        "name": "ipython",
        "version": 3
      },
      "file_extension": ".py",
      "mimetype": "text/x-python",
      "name": "python",
      "nbconvert_exporter": "python",
      "pygments_lexer": "ipython3",
      "version": "3.7.6"
    },
    "colab": {
      "name": "UnitTesting.ipynb",
      "provenance": [],
      "collapsed_sections": [
        "vjmiOxay4vSs"
      ],
      "include_colab_link": true
    }
  },
  "cells": [
    {
      "cell_type": "markdown",
      "metadata": {
        "id": "view-in-github",
        "colab_type": "text"
      },
      "source": [
        "<a href=\"https://colab.research.google.com/github/suryagokul/Unit-testing/blob/main/UnitTesting.ipynb\" target=\"_parent\"><img src=\"https://colab.research.google.com/assets/colab-badge.svg\" alt=\"Open In Colab\"/></a>"
      ]
    },
    {
      "cell_type": "markdown",
      "metadata": {
        "id": "vjmiOxay4vSs"
      },
      "source": [
        "### Testing\n",
        "\n",
        "`Testing is the process of executing a program with the aim of finding errors. To make our software perform well it should be error-free. If testing is done successfully it will remove all the errors from the software.`\n",
        "\n",
        "1. **UnitTesting**\n",
        "\n",
        "2. **Integrated Testing**\n",
        "\n",
        "3. **Alpha Testing**\n",
        "\n",
        "4. **Beta Testing**\n",
        "\n",
        "\n",
        "1. `The process of testing whether a particular unit in the sense block of code is working properly or not is called Unit Testing.`\n",
        "\n",
        "\n",
        "2. `The process of testing entire application (end to end testing) is called Integrated Testing`\n",
        "\n",
        "3. `Process where testing is performed internally within\n",
        "the organization is called as Alpha Testing`\n",
        "\n",
        "4. `The test is conducted at one or more customer sites by the end-user of the software. This version is released for a limited number of users for testing in a real-time environment is known as Beta Test `\n",
        "\n",
        "\n",
        "`UnitTesting is responsible for both developers and testers...`\n",
        "\n",
        "\n",
        "`Integrated Testing is responsible for QA team (testers)...`\n",
        "\n",
        "\n",
        "`Example: Consider Pen shown below -  `\n",
        "\n",
        "![title](https://upload.wikimedia.org/wikipedia/commons/thumb/f/fd/Ballpoint-pen-parts.jpg/220px-Ballpoint-pen-parts.jpg)\n",
        "\n",
        "\n",
        "`There are different components like spring,Reifiel etc.`\n",
        "\n",
        "`We have to test each component/unit separately i.e UnitTesting and \n",
        "testing whole pen as integration of different units is Integrated Testing`"
      ]
    },
    {
      "cell_type": "markdown",
      "metadata": {
        "id": "b_QjTufM4vS2"
      },
      "source": [
        "**There are some terminologies in testing.They are :**\n",
        "\n",
        "1. **Test Scenario**\n",
        "\n",
        "2. **Test Case**\n",
        "\n",
        "3. **Test Suite**\n",
        "\n",
        "`For Example consider gmail application where`\n",
        "\n",
        "`Test Scenario are like `\n",
        "\n",
        "            login functionality\n",
        "            \n",
        "            inbox functionality...\n",
        "            \n",
        "`For Login functionality there are different test cases like `\n",
        "\n",
        "            valid username and valid password\n",
        "            \n",
        "            valid username and invalid password\n",
        "            \n",
        "            invalid username and valid password\n",
        "            \n",
        "            invalid username and invalid password\n",
        "            \n",
        "            empty username and empty password\n",
        "            \n",
        "`We check all of these test cases individually.But to check all of these at a time then it is said to be Test Suite`"
      ]
    },
    {
      "cell_type": "markdown",
      "metadata": {
        "id": "ysPJXalS4vS3"
      },
      "source": [
        "###  **Python unittesting**\n",
        "\n",
        "\n",
        "**library/module name    =       unittest. It is inbuilt library we need not to install separately**\n",
        "\n",
        "**classname              =       TestCase**\n",
        "\n",
        "**instance methods       =       three methods**\n",
        "\n",
        "                               1. setUp\n",
        "\n",
        "                               2. test()\n",
        "\n",
        "                               3. tearDown()\n",
        "            \n",
        "`setUp and tearDown method names will not be changed.But for test we can use as  test_name,test1,test_method...Prefix must be test.` "
      ]
    },
    {
      "cell_type": "code",
      "metadata": {
        "id": "ZJOMAq1P4vS4"
      },
      "source": [
        "import unittest"
      ],
      "execution_count": 9,
      "outputs": []
    },
    {
      "cell_type": "code",
      "metadata": {
        "colab": {
          "base_uri": "https://localhost:8080/"
        },
        "id": "3IRQHTWj4vS5",
        "outputId": "776c11e6-becb-423e-9550-1682d0f14ed8"
      },
      "source": [
        "class TestCaseDemo(unittest.TestCase):\n",
        "    def setUp(self):\n",
        "        print(\"setUp Execution....\")\n",
        "    def test(self):\n",
        "        print(\"Test Execution....\")\n",
        "\n",
        "    def tearDown(self):\n",
        "        print(\"tearDown Execution....\")\n",
        "\n",
        "if __name__ == '__main__':\n",
        "    unittest.main(argv=['first-arg-is-ignored'], exit=False)"
      ],
      "execution_count": 10,
      "outputs": [
        {
          "output_type": "stream",
          "text": [
            "."
          ],
          "name": "stderr"
        },
        {
          "output_type": "stream",
          "text": [
            "setUp Execution....\n",
            "Test Execution....\n",
            "tearDown Execution....\n"
          ],
          "name": "stdout"
        },
        {
          "output_type": "stream",
          "text": [
            "\n",
            "----------------------------------------------------------------------\n",
            "Ran 1 test in 0.001s\n",
            "\n",
            "OK\n"
          ],
          "name": "stderr"
        }
      ]
    },
    {
      "cell_type": "code",
      "metadata": {
        "id": "-qTMSoMr4vS7",
        "colab": {
          "base_uri": "https://localhost:8080/"
        },
        "outputId": "fe3da090-ea64-4371-c84e-d59b9aed2e7d"
      },
      "source": [
        "class TestCaseDemo(unittest.TestCase):\r\n",
        "    def setUp(self):\r\n",
        "        print(\"setUp Execution....\")\r\n",
        "    def test(self):\r\n",
        "        print(\"Test Execution....\")\r\n",
        "        print(10/0)\r\n",
        "\r\n",
        "    def tearDown(self):\r\n",
        "        print(\"tearDown Execution....\")\r\n",
        "\r\n",
        "if __name__ == '__main__':\r\n",
        "    unittest.main(argv=['first-arg-is-ignored'], exit=False)"
      ],
      "execution_count": 11,
      "outputs": [
        {
          "output_type": "stream",
          "text": [
            "E"
          ],
          "name": "stderr"
        },
        {
          "output_type": "stream",
          "text": [
            "setUp Execution....\n",
            "Test Execution....\n",
            "tearDown Execution....\n"
          ],
          "name": "stdout"
        },
        {
          "output_type": "stream",
          "text": [
            "\n",
            "======================================================================\n",
            "ERROR: test (__main__.TestCaseDemo)\n",
            "----------------------------------------------------------------------\n",
            "Traceback (most recent call last):\n",
            "  File \"<ipython-input-11-a8c81d9e82ed>\", line 6, in test\n",
            "    print(10/0)\n",
            "ZeroDivisionError: division by zero\n",
            "\n",
            "----------------------------------------------------------------------\n",
            "Ran 1 test in 0.003s\n",
            "\n",
            "FAILED (errors=1)\n"
          ],
          "name": "stderr"
        }
      ]
    },
    {
      "cell_type": "code",
      "metadata": {
        "colab": {
          "base_uri": "https://localhost:8080/"
        },
        "id": "bKFKRpBbkuqy",
        "outputId": "d38adb4a-5c91-486f-9248-7c66f52213a2"
      },
      "source": [
        "class TestCaseDemo(unittest.TestCase):\r\n",
        "    def setUp(self):\r\n",
        "        print(\"setUp Execution....\")\r\n",
        "    \r\n",
        "    def test_method1(self):\r\n",
        "        print(\"Test Method1 Execution....\")\r\n",
        "\r\n",
        "    def test_method2(self):\r\n",
        "        print(\"Test Method2 Execution....\")\r\n",
        "\r\n",
        "    def tearDown(self):\r\n",
        "        print(\"tearDown Execution....\")\r\n",
        "\r\n",
        "if __name__ == '__main__':\r\n",
        "    unittest.main(argv=['first-arg-is-ignored'], exit=False)"
      ],
      "execution_count": 12,
      "outputs": [
        {
          "output_type": "stream",
          "text": [
            ".."
          ],
          "name": "stderr"
        },
        {
          "output_type": "stream",
          "text": [
            "setUp Execution....\n",
            "Test Method1 Execution....\n",
            "tearDown Execution....\n",
            "setUp Execution....\n",
            "Test Method2 Execution....\n",
            "tearDown Execution....\n"
          ],
          "name": "stdout"
        },
        {
          "output_type": "stream",
          "text": [
            "\n",
            "----------------------------------------------------------------------\n",
            "Ran 2 tests in 0.004s\n",
            "\n",
            "OK\n"
          ],
          "name": "stderr"
        }
      ]
    },
    {
      "cell_type": "markdown",
      "metadata": {
        "id": "tVfSQ9slndBm"
      },
      "source": [
        "`Here setUp and tearDown executes two times because For Example consider - `\r\n",
        "\r\n",
        "1.\r\n",
        "  \r\n",
        "    setup() : open chrome browser\r\n",
        "    \r\n",
        "    test1() : test login functionality in chrome browser\r\n",
        "    \r\n",
        "    tearDown() : close chrome browser\r\n",
        "\r\n",
        "2.\r\n",
        "  \r\n",
        "    setup() : open firefox browser\r\n",
        "    test2() : test login functionality in firefox browser\r\n",
        "    tearDown() : close firefox browser"
      ]
    },
    {
      "cell_type": "markdown",
      "metadata": {
        "id": "mVQFQGZAlGt3"
      },
      "source": [
        "`Every time setUp ==> test method ==> tearDown will execute in order...`\r\n",
        "\r\n",
        "`If multiple test methods are there then after execution of each test method teardown method follows it... as shown above`"
      ]
    },
    {
      "cell_type": "code",
      "metadata": {
        "colab": {
          "base_uri": "https://localhost:8080/"
        },
        "id": "m043VR8Sn4C6",
        "outputId": "08f38851-97d4-4e0a-9070-82f8020b7bf8"
      },
      "source": [
        "class TestCaseDemo(unittest.TestCase):\r\n",
        "\r\n",
        "    @classmethod\r\n",
        "    def setUpClass(cls):\r\n",
        "      print(\"Setup class method is common for all tests unlike setup instance one..which executes only one time\")\r\n",
        "    \r\n",
        "    def setUp(self):\r\n",
        "        print(\"setUp Execution....\")\r\n",
        "    \r\n",
        "    def test_method1(self):\r\n",
        "        print(\"Test Method1 Execution....\")\r\n",
        "\r\n",
        "    def test_method2(self):\r\n",
        "        print(\"Test Method2 Execution....\")\r\n",
        "\r\n",
        "    def tearDown(self):\r\n",
        "        print(\"tearDown Execution....\")\r\n",
        "\r\n",
        "    @classmethod\r\n",
        "    def tearDownClass(cls):\r\n",
        "      print(\"tearDown class method is common for all tests unlike tearDown instance one..which executes only one time\")\r\n",
        "    \r\n",
        "\r\n",
        "\r\n",
        "if __name__ == '__main__':\r\n",
        "    unittest.main(argv=['first-arg-is-ignored'], exit=False)"
      ],
      "execution_count": 13,
      "outputs": [
        {
          "output_type": "stream",
          "text": [
            ".."
          ],
          "name": "stderr"
        },
        {
          "output_type": "stream",
          "text": [
            "Setup class method is common for all tests unlike setup instance one..which executes only one time\n",
            "setUp Execution....\n",
            "Test Method1 Execution....\n",
            "tearDown Execution....\n",
            "setUp Execution....\n",
            "Test Method2 Execution....\n",
            "tearDown Execution....\n",
            "tearDown class method is common for all tests unlike tearDown instance one..which executes only one time\n"
          ],
          "name": "stdout"
        },
        {
          "output_type": "stream",
          "text": [
            "\n",
            "----------------------------------------------------------------------\n",
            "Ran 2 tests in 0.002s\n",
            "\n",
            "OK\n"
          ],
          "name": "stderr"
        }
      ]
    },
    {
      "cell_type": "markdown",
      "metadata": {
        "id": "MMVBsLyLXTnm"
      },
      "source": [
        "`If we are using common setup for all tests, then we can use setupclass method and tearDown class method whcih executes only one time and same for all testcases.`\r\n",
        "\r\n",
        "`In real world we can use in scenarios like - `\r\n",
        "\r\n",
        "1. check login functionality in chrome browser.\r\n",
        "\r\n",
        "2. check signup functionality and otp verification in chrome browser.\r\n",
        "\r\n",
        "**Here for all tests we need only setup and teardown once due to we are checking in same browser across all tests**\r\n"
      ]
    },
    {
      "cell_type": "code",
      "metadata": {
        "colab": {
          "base_uri": "https://localhost:8080/"
        },
        "id": "oVNfmedWY0Xw",
        "outputId": "1c3ee28c-c320-4d35-a99b-216a1d216537"
      },
      "source": [
        "class TestCaseDemo(unittest.TestCase):\r\n",
        "\r\n",
        "    @classmethod\r\n",
        "    def setUpClass(cls):\r\n",
        "      print(\"Setup class method is common for all tests unlike setup instance one..which executes only one time\")\r\n",
        "    \r\n",
        "    def setUp(self):\r\n",
        "        print(\"setUp Execution....\")\r\n",
        "    \r\n",
        "    def test_method1(self):\r\n",
        "        print(\"Test Method1 Execution....\")\r\n",
        "\r\n",
        "    def test_method2(self):\r\n",
        "        print(\"Test Method2 Execution....\")\r\n",
        "        print(10/0)\r\n",
        "    \r\n",
        "    def test_method3(self):\r\n",
        "        print(\"Test Method3 Execution....\")\r\n",
        "    \r\n",
        "    def test_method4(self):\r\n",
        "        print(\"Test Method4 Execution....\")\r\n",
        "        print(10/0)\r\n",
        "\r\n",
        "    def tearDown(self):\r\n",
        "        print(\"tearDown Execution....\")\r\n",
        "\r\n",
        "    @classmethod\r\n",
        "    def tearDownClass(cls):\r\n",
        "      print(\"tearDown class method is common for all tests unlike tearDown instance one..which executes only one time\")\r\n",
        "    \r\n",
        "\r\n",
        "\r\n",
        "if __name__ == '__main__':\r\n",
        "    unittest.main(argv=['first-arg-is-ignored'], exit=False)"
      ],
      "execution_count": 14,
      "outputs": [
        {
          "output_type": "stream",
          "text": [
            ".E.E"
          ],
          "name": "stderr"
        },
        {
          "output_type": "stream",
          "text": [
            "Setup class method is common for all tests unlike setup instance one..which executes only one time\n",
            "setUp Execution....\n",
            "Test Method1 Execution....\n",
            "tearDown Execution....\n",
            "setUp Execution....\n",
            "Test Method2 Execution....\n",
            "tearDown Execution....\n",
            "setUp Execution....\n",
            "Test Method3 Execution....\n",
            "tearDown Execution....\n",
            "setUp Execution....\n",
            "Test Method4 Execution....\n",
            "tearDown Execution....\n",
            "tearDown class method is common for all tests unlike tearDown instance one..which executes only one time\n"
          ],
          "name": "stdout"
        },
        {
          "output_type": "stream",
          "text": [
            "\n",
            "======================================================================\n",
            "ERROR: test_method2 (__main__.TestCaseDemo)\n",
            "----------------------------------------------------------------------\n",
            "Traceback (most recent call last):\n",
            "  File \"<ipython-input-14-b934da55cbc4>\", line 15, in test_method2\n",
            "    print(10/0)\n",
            "ZeroDivisionError: division by zero\n",
            "\n",
            "======================================================================\n",
            "ERROR: test_method4 (__main__.TestCaseDemo)\n",
            "----------------------------------------------------------------------\n",
            "Traceback (most recent call last):\n",
            "  File \"<ipython-input-14-b934da55cbc4>\", line 22, in test_method4\n",
            "    print(10/0)\n",
            "ZeroDivisionError: division by zero\n",
            "\n",
            "----------------------------------------------------------------------\n",
            "Ran 4 tests in 0.006s\n",
            "\n",
            "FAILED (errors=2)\n"
          ],
          "name": "stderr"
        }
      ]
    },
    {
      "cell_type": "markdown",
      "metadata": {
        "id": "waRMS35y5qC8"
      },
      "source": [
        "### There are mainly two types of testing we can do :\r\n",
        "            1. Manual Testing\r\n",
        "\r\n",
        "                Ex - Testing Google Search Functionality\r\n",
        "\r\n",
        "                    steps : Open browser\r\n",
        "                            Open google.com \r\n",
        "                            Type anything to search\r\n",
        "                            Click Search\r\n",
        "                            Open wikipedia link\r\n",
        "\r\n",
        "            2. Automatic Testing - Done automatically using tools like selenium,QTP,Load Runner\r\n"
      ]
    }
  ]
}